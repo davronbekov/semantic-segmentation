{
  "cells": [
    {
      "cell_type": "code",
      "execution_count": 1,
      "metadata": {
        "colab": {
          "base_uri": "https://localhost:8080/"
        },
        "id": "ctNo7kwQm4H3",
        "outputId": "020bff98-bd6d-4f06-cc1c-7694f2bfae79"
      },
      "outputs": [
        {
          "output_type": "stream",
          "name": "stdout",
          "text": [
            "Mounted at /content/drive\n"
          ]
        }
      ],
      "source": [
        "from google.colab import drive\n",
        "drive.mount('/content/drive')"
      ]
    },
    {
      "cell_type": "code",
      "execution_count": 2,
      "metadata": {
        "colab": {
          "base_uri": "https://localhost:8080/"
        },
        "id": "gy__Lcx0goRh",
        "outputId": "d79f881e-b3e8-40ff-f57c-ab55ba351bd9"
      },
      "outputs": [
        {
          "output_type": "stream",
          "name": "stdout",
          "text": [
            "/content/drive/MyDrive/geoalert/auto-ml\n"
          ]
        }
      ],
      "source": [
        "%cd \"/content/drive/MyDrive/geoalert/auto-ml\""
      ]
    },
    {
      "cell_type": "code",
      "execution_count": 3,
      "metadata": {
        "colab": {
          "base_uri": "https://localhost:8080/"
        },
        "id": "VoiUHf1Dg2OU",
        "outputId": "360c586e-a2bd-4033-b0e5-55ece9234e93"
      },
      "outputs": [
        {
          "output_type": "stream",
          "name": "stdout",
          "text": [
            "/content/drive/MyDrive/geoalert/auto-ml\n"
          ]
        }
      ],
      "source": [
        "import os\n",
        "\n",
        "print(os.getcwd())"
      ]
    },
    {
      "cell_type": "code",
      "execution_count": 4,
      "metadata": {
        "colab": {
          "base_uri": "https://localhost:8080/"
        },
        "id": "7Nvs6XIZg9P_",
        "outputId": "b85081d5-3ea4-43da-d216-7d902cf35262"
      },
      "outputs": [
        {
          "output_type": "stream",
          "name": "stdout",
          "text": [
            "Collecting pipenv\n",
            "  Downloading pipenv-2023.11.17-py3-none-any.whl (3.2 MB)\n",
            "\u001b[2K     \u001b[90m━━━━━━━━━━━━━━━━━━━━━━━━━━━━━━━━━━━━━━━━\u001b[0m \u001b[32m3.2/3.2 MB\u001b[0m \u001b[31m15.0 MB/s\u001b[0m eta \u001b[36m0:00:00\u001b[0m\n",
            "\u001b[?25hRequirement already satisfied: certifi in /usr/local/lib/python3.10/dist-packages (from pipenv) (2023.11.17)\n",
            "Requirement already satisfied: setuptools>=67 in /usr/local/lib/python3.10/dist-packages (from pipenv) (67.7.2)\n",
            "Collecting virtualenv>=20.24.2 (from pipenv)\n",
            "  Downloading virtualenv-20.25.0-py3-none-any.whl (3.8 MB)\n",
            "\u001b[2K     \u001b[90m━━━━━━━━━━━━━━━━━━━━━━━━━━━━━━━━━━━━━━━━\u001b[0m \u001b[32m3.8/3.8 MB\u001b[0m \u001b[31m35.3 MB/s\u001b[0m eta \u001b[36m0:00:00\u001b[0m\n",
            "\u001b[?25hCollecting distlib<1,>=0.3.7 (from virtualenv>=20.24.2->pipenv)\n",
            "  Downloading distlib-0.3.8-py2.py3-none-any.whl (468 kB)\n",
            "\u001b[2K     \u001b[90m━━━━━━━━━━━━━━━━━━━━━━━━━━━━━━━━━━━━━━━━\u001b[0m \u001b[32m468.9/468.9 kB\u001b[0m \u001b[31m31.1 MB/s\u001b[0m eta \u001b[36m0:00:00\u001b[0m\n",
            "\u001b[?25hRequirement already satisfied: filelock<4,>=3.12.2 in /usr/local/lib/python3.10/dist-packages (from virtualenv>=20.24.2->pipenv) (3.13.1)\n",
            "Requirement already satisfied: platformdirs<5,>=3.9.1 in /usr/local/lib/python3.10/dist-packages (from virtualenv>=20.24.2->pipenv) (4.1.0)\n",
            "Installing collected packages: distlib, virtualenv, pipenv\n",
            "Successfully installed distlib-0.3.8 pipenv-2023.11.17 virtualenv-20.25.0\n"
          ]
        }
      ],
      "source": [
        "!pip install pipenv"
      ]
    },
    {
      "cell_type": "code",
      "execution_count": 5,
      "metadata": {
        "colab": {
          "base_uri": "https://localhost:8080/"
        },
        "id": "qRzRyBxshKDU",
        "outputId": "f46fde56-0242-4460-ec3c-98a1b24c0f4e"
      },
      "outputs": [
        {
          "output_type": "stream",
          "name": "stdout",
          "text": [
            "\u001b[1mCreating a virtualenv for this project...\u001b[0m\n",
            "Pipfile: \u001b[33m\u001b[1m/content/drive/MyDrive/geoalert/auto-ml/Pipfile\u001b[0m\n",
            "\u001b[1mUsing\u001b[0m \u001b[33m\u001b[1m/usr/local/bin/python\u001b[0m \u001b[32m(3.10.12)\u001b[0m \u001b[1mto create virtualenv...\u001b[0m\n",
            "\u001b[2K\u001b[32m⠦\u001b[0m Creating virtual environment...\u001b[36mcreated virtual environment CPython3.10.12.final.0-64 in 1100ms\n",
            "  creator CPython3Posix(dest=/root/.local/share/virtualenvs/auto-ml-vgcjE7rG, clear=False, no_vcs_ignore=False, global=False)\n",
            "  seeder FromAppData(download=False, pip=bundle, setuptools=bundle, wheel=bundle, via=copy, app_data_dir=/root/.local/share/virtualenv)\n",
            "    added seed packages: pip==23.3.1, setuptools==69.0.2, wheel==0.42.0\n",
            "  activators BashActivator,CShellActivator,FishActivator,NushellActivator,PowerShellActivator,PythonActivator\n",
            "\u001b[0m\n",
            "✔ Successfully created virtual environment!\n",
            "\u001b[2K\u001b[32m⠦\u001b[0m Creating virtual environment...\n",
            "\u001b[1A\u001b[2K\u001b[32mVirtualenv location: /root/.local/share/virtualenvs/auto-ml-vgcjE7rG\u001b[0m\n",
            "Launching subshell in virtual environment...\n",
            " . /root/.local/share/virtualenvs/auto-ml-vgcjE7rG/bin/activate\n",
            "\u001b[?2004h\u001b[01;34m/content/drive/MyDrive/geoalert/auto-ml\u001b[00m#  . /root/.local/share/virtualenvs/auto-ml-vgcjE7rG/bin/activate\n",
            "\u001b[?2004h(auto-ml) \u001b[01;34m/content/drive/MyDrive/geoalert/auto-ml\u001b[00m# \n",
            "Traceback (most recent call last):\n",
            "  File \"/usr/local/lib/python3.10/dist-packages/pipenv/vendor/click/core.py\", line 1078, in main\n",
            "    rv = self.invoke(ctx)\n",
            "  File \"/usr/local/lib/python3.10/dist-packages/pipenv/vendor/click/core.py\", line 1688, in invoke\n",
            "    return _process_result(sub_ctx.command.invoke(sub_ctx))\n",
            "  File \"/usr/local/lib/python3.10/dist-packages/pipenv/vendor/click/core.py\", line 1434, in invoke\n",
            "    return ctx.invoke(self.callback, **ctx.params)\n",
            "  File \"/usr/local/lib/python3.10/dist-packages/pipenv/vendor/click/core.py\", line 783, in invoke\n",
            "    return __callback(*args, **kwargs)\n",
            "  File \"/usr/local/lib/python3.10/dist-packages/pipenv/vendor/click/decorators.py\", line 92, in new_func\n",
            "    return ctx.invoke(f, obj, *args, **kwargs)\n",
            "  File \"/usr/local/lib/python3.10/dist-packages/pipenv/vendor/click/core.py\", line 783, in invoke\n",
            "    return __callback(*args, **kwargs)\n",
            "  File \"/usr/local/lib/python3.10/dist-packages/pipenv/cli/command.py\", line 394, in shell\n",
            "    do_shell(\n",
            "  File \"/usr/local/lib/python3.10/dist-packages/pipenv/routines/shell.py\", line 49, in do_shell\n",
            "    shell.fork_compat(*fork_args)\n",
            "  File \"/usr/local/lib/python3.10/dist-packages/pipenv/shells.py\", line 124, in fork_compat\n",
            "    c.interact(escape_character=None)\n",
            "  File \"/usr/local/lib/python3.10/dist-packages/pipenv/vendor/pexpect/pty_spawn.py\", line 793, in interact\n",
            "    self.__interact_copy(escape_character, input_filter, output_filter)\n",
            "  File \"/usr/local/lib/python3.10/dist-packages/pipenv/vendor/pexpect/pty_spawn.py\", line 822, in __interact_copy\n",
            "    r, w, e = select_ignore_interrupts(\n",
            "  File \"/usr/local/lib/python3.10/dist-packages/pipenv/vendor/pexpect/utils.py\", line 143, in select_ignore_interrupts\n",
            "    return select.select(iwtd, owtd, ewtd, timeout)\n",
            "KeyboardInterrupt\n",
            "\n",
            "The above exception was the direct cause of the following exception:\n",
            "\n",
            "Traceback (most recent call last):\n",
            "  File \"/usr/local/lib/python3.10/dist-packages/pipenv/vendor/click/core.py\", line 1091, in main\n",
            "    raise Abort() from e\n",
            "pipenv.vendor.click.exceptions.Abort\n",
            "\n",
            "During handling of the above exception, another exception occurred:\n",
            "\n",
            "Traceback (most recent call last):\n",
            "  File \"/usr/local/bin/pipenv\", line 8, in <module>\n",
            "    sys.exit(cli())\n",
            "  File \"/usr/local/lib/python3.10/dist-packages/pipenv/vendor/click/core.py\", line 1157, in __call__\n",
            "    return self.main(*args, **kwargs)\n",
            "  File \"/usr/local/lib/python3.10/dist-packages/pipenv/cli/options.py\", line 58, in main\n",
            "    return super().main(*args, **kwargs, windows_expand_args=False)\n",
            "  File \"/usr/local/lib/python3.10/dist-packages/pipenv/vendor/click/core.py\", line 1120, in main\n",
            "    echo(_(\"Aborted!\"), file=sys.stderr)\n",
            "  File \"/usr/lib/python3.10/gettext.py\", line 757, in gettext\n",
            "    return dgettext(_current_domain, message)\n",
            "  File \"/usr/lib/python3.10/gettext.py\", line 681, in dgettext\n",
            "    t = translation(domain, _localedirs.get(domain, None))\n",
            "  File \"/usr/lib/python3.10/gettext.py\", line 602, in translation\n",
            "    mofiles = find(domain, localedir, languages, all=True)\n",
            "  File \"/usr/lib/python3.10/gettext.py\", line 542, in find\n",
            "    def find(domain, localedir=None, languages=None, all=False):\n",
            "KeyboardInterrupt\n",
            "^C\n"
          ]
        }
      ],
      "source": [
        "!pipenv shell"
      ]
    },
    {
      "cell_type": "code",
      "execution_count": 6,
      "metadata": {
        "colab": {
          "base_uri": "https://localhost:8080/"
        },
        "id": "kEc5NQhriaVw",
        "outputId": "0197ccdf-8c93-4d41-e840-b04b773b210b"
      },
      "outputs": [
        {
          "output_type": "stream",
          "name": "stdout",
          "text": [
            "\u001b[1mInstalling dependencies from Pipfile.lock \u001b[0m\u001b[1m(\u001b[0m\u001b[1me892fb\u001b[0m\u001b[1m)\u001b[0m\u001b[1;33m...\u001b[0m\n",
            "To activate this project's virtualenv, run \u001b[33mpipenv shell\u001b[0m.\n",
            "Alternatively, run a command inside the virtualenv with \u001b[33mpipenv run\u001b[0m.\n"
          ]
        }
      ],
      "source": [
        "!pipenv install"
      ]
    },
    {
      "cell_type": "code",
      "execution_count": 7,
      "metadata": {
        "colab": {
          "base_uri": "https://localhost:8080/"
        },
        "id": "yr5P-tzcocgN",
        "outputId": "9359ca18-5bd5-4d7a-eb74-35608d29bc9b"
      },
      "outputs": [
        {
          "output_type": "stream",
          "name": "stdout",
          "text": [
            "\u001b[1;32mInstalling cuda-python\u001b[0m\u001b[1;33m...\u001b[0m\n",
            "\u001b[?25lResolving cuda-python\u001b[33m...\u001b[0m\n",
            "\u001b[32m⠋\u001b[0m Installing...\r\u001b[2K✔ Installation Succeeded\n",
            "\u001b[32m⠋\u001b[0m Installing cuda-python...\r\u001b[2K\u001b[32m⠋\u001b[0m Installing cuda-python...\n",
            "\u001b[?25h\r\u001b[1A\u001b[2K\u001b[1mInstalling dependencies from Pipfile.lock \u001b[0m\u001b[1m(\u001b[0m\u001b[1me892fb\u001b[0m\u001b[1m)\u001b[0m\u001b[1;33m...\u001b[0m\n",
            "To activate this project's virtualenv, run \u001b[33mpipenv shell\u001b[0m.\n",
            "Alternatively, run a command inside the virtualenv with \u001b[33mpipenv run\u001b[0m.\n"
          ]
        }
      ],
      "source": [
        "!pipenv install cuda-python"
      ]
    },
    {
      "cell_type": "code",
      "execution_count": null,
      "metadata": {
        "colab": {
          "background_save": true,
          "base_uri": "https://localhost:8080/"
        },
        "id": "7SMYU8UImWHL",
        "outputId": "118760c3-1cc0-40c4-ec19-04330a726bec"
      },
      "outputs": [
        {
          "name": "stdout",
          "output_type": "stream",
          "text": [
            "Downloading: \"https://github.com/qubvel/segmentation_models.pytorch/releases/download/v0.0.2/mit_b2.pth\" to /root/.cache/torch/hub/checkpoints/mit_b2.pth\n",
            "100% 94.3M/94.3M [00:00<00:00, 309MB/s]\n",
            "imagewise-micro  tensor(0.9055)\n",
            "imagewise-micro  tensor(0.7545)\n",
            "imagewise-micro  tensor(0.5448)\n",
            "imagewise-micro  tensor(0.9051)\n",
            "imagewise-micro  tensor(0.7850)\n",
            "imagewise-micro  tensor(0.8470)\n",
            "imagewise-micro  tensor(0.5265)\n",
            "imagewise-micro  tensor(0.6530)\n",
            "imagewise-micro  tensor(0.7220)\n",
            "imagewise-micro  tensor(0.7784)\n",
            "imagewise-micro  tensor(0.6651)\n",
            "imagewise-micro  tensor(0.7948)\n",
            "imagewise-micro  tensor(0.4155)\n",
            "imagewise-micro  tensor(0.8076)\n",
            "imagewise-micro  tensor(0.7891)\n",
            "imagewise-micro  tensor(0.5645)\n",
            "imagewise-micro  tensor(0.6380)\n",
            "imagewise-micro  tensor(0.6693)\n",
            "imagewise-micro  tensor(0.8167)\n",
            "imagewise-micro  tensor(0.7103)\n",
            "imagewise-micro  tensor(0.7413)\n",
            "imagewise-micro  tensor(0.0269)\n",
            "imagewise-micro  tensor(0.7159)\n",
            "imagewise-micro  tensor(0.6912)\n",
            "imagewise-micro  tensor(0.7067)\n",
            "imagewise-micro  tensor(0.6958)\n",
            "imagewise-micro  tensor(0.7318)\n",
            "imagewise-micro  tensor(0.8415)\n",
            "imagewise-micro  tensor(0.7991)\n",
            "imagewise-micro  tensor(0.8862)\n",
            "imagewise-micro  tensor(0.8877)\n",
            "imagewise-micro  tensor(0.)\n",
            "imagewise-micro  tensor(0.8122)\n",
            "imagewise-micro  tensor(0.8745)\n",
            "imagewise-micro  tensor(0.8584)\n",
            "imagewise-micro  tensor(0.8630)\n",
            "imagewise-micro  tensor(0.8971)\n",
            "imagewise-micro  tensor(0.8368)\n",
            "imagewise-micro  tensor(0.8981)\n",
            "imagewise-micro  tensor(0.8876)\n",
            "imagewise-micro  tensor(0.5046)\n",
            "imagewise-micro  tensor(0.6681)\n",
            "imagewise-micro  tensor(0.7779)\n",
            "imagewise-micro  tensor(0.8793)\n",
            "imagewise-micro  tensor(0.8772)\n",
            "imagewise-micro  tensor(0.8054)\n",
            "imagewise-micro  tensor(0.8627)\n",
            "imagewise-micro  tensor(0.8443)\n",
            "imagewise-micro  tensor(0.7716)\n",
            "imagewise-micro  tensor(0.7964)\n",
            "imagewise-micro  tensor(0.7151)\n",
            "imagewise-micro  tensor(0.7719)\n",
            "imagewise-micro  tensor(0.7787)\n",
            "imagewise-micro  tensor(0.8451)\n",
            "imagewise-micro  tensor(0.8690)\n",
            "imagewise-micro  tensor(0.8685)\n",
            "imagewise-micro  tensor(0.5849)\n",
            "imagewise-micro  tensor(0.7325)\n",
            "imagewise-micro  tensor(0.8017)\n",
            "imagewise-micro  tensor(0.8036)\n",
            "imagewise-micro  tensor(0.8315)\n",
            "imagewise-micro  tensor(0.8053)\n",
            "imagewise-micro  tensor(0.8341)\n",
            "imagewise-micro  tensor(0.6899)\n",
            "imagewise-micro  tensor(0.8597)\n",
            "imagewise-micro  tensor(0.8525)\n",
            "imagewise-micro  tensor(0.8379)\n",
            "imagewise-micro  tensor(0.7251)\n",
            "imagewise-micro  tensor(0.6778)\n",
            "imagewise-micro  tensor(0.9002)\n",
            "imagewise-micro  tensor(0.8964)\n",
            "imagewise-micro  tensor(0.8334)\n",
            "imagewise-micro  tensor(0.7986)\n",
            "imagewise-micro  tensor(0.0011)\n",
            "{'test_iou_score': tensor(0.8072), 'test_f1_score': tensor(0.8933)}\n"
          ]
        }
      ],
      "source": [
        "!pipenv run python3 test.py --model=\"./data/Unet_mit_b2_roofs_logits.pth\""
      ]
    },
    {
      "cell_type": "code",
      "execution_count": 8,
      "metadata": {
        "colab": {
          "base_uri": "https://localhost:8080/"
        },
        "id": "hfvrUvOyRcvk",
        "outputId": "a35b71e3-bb03-43ba-acfc-e27be344002d"
      },
      "outputs": [
        {
          "output_type": "stream",
          "name": "stdout",
          "text": [
            "Downloading: \"https://github.com/qubvel/segmentation_models.pytorch/releases/download/v0.0.2/mit_b2.pth\" to /root/.cache/torch/hub/checkpoints/mit_b2.pth\n",
            "100% 94.3M/94.3M [00:01<00:00, 74.5MB/s]\n",
            "GPU available: True (cuda), used: True\n",
            "TPU available: False, using: 0 TPU cores\n",
            "IPU available: False, using: 0 IPUs\n",
            "HPU available: False, using: 0 HPUs\n",
            "/root/.local/share/virtualenvs/auto-ml-vgcjE7rG/lib/python3.10/site-packages/pytorch_lightning/trainer/connectors/logger_connector/logger_connector.py:67: Starting from v1.9.0, `tensorboardX` has been removed as a dependency of the `pytorch_lightning` package, due to potential conflicts with other packages in the ML ecosystem. For this reason, `logger=True` will use `CSVLogger` as the default logger, unless the `tensorboard` or `tensorboardX` packages are found. Please `pip install lightning[extra]` or one of them to enable TensorBoard support by default\n",
            "LOCAL_RANK: 0 - CUDA_VISIBLE_DEVICES: [0]\n",
            "\n",
            "  | Name    | Type        | Params\n",
            "----------------------------------------\n",
            "0 | model   | Unet        | 27.5 M\n",
            "1 | loss_fn | JaccardLoss | 0     \n",
            "----------------------------------------\n",
            "27.5 M    Trainable params\n",
            "0         Non-trainable params\n",
            "27.5 M    Total params\n",
            "109.908   Total estimated model params size (MB)\n",
            "Sanity Checking: |          | 0/? [00:00<?, ?it/s]/root/.local/share/virtualenvs/auto-ml-vgcjE7rG/lib/python3.10/site-packages/pytorch_lightning/trainer/connectors/data_connector.py:441: The 'val_dataloader' does not have many workers which may be a bottleneck. Consider increasing the value of the `num_workers` argument` to `num_workers=1` in the `DataLoader` to improve performance.\n",
            "/root/.local/share/virtualenvs/auto-ml-vgcjE7rG/lib/python3.10/site-packages/pytorch_lightning/trainer/connectors/data_connector.py:441: The 'train_dataloader' does not have many workers which may be a bottleneck. Consider increasing the value of the `num_workers` argument` to `num_workers=1` in the `DataLoader` to improve performance.\n",
            "/root/.local/share/virtualenvs/auto-ml-vgcjE7rG/lib/python3.10/site-packages/pytorch_lightning/loops/fit_loop.py:293: The number of training batches (13) is smaller than the logging interval Trainer(log_every_n_steps=50). Set a lower value for log_every_n_steps if you want to see logs for the training epoch.\n",
            "Epoch 0: 100% 13/13 [02:09<00:00,  9.94s/it, v_num=18]\n",
            "Validation: |          | 0/? [00:00<?, ?it/s]\u001b[A\n",
            "Validation:   0% 0/4 [00:00<?, ?it/s]        \u001b[A\n",
            "Validation DataLoader 0:   0% 0/4 [00:00<?, ?it/s]\u001b[A\n",
            "Validation DataLoader 0: 100% 4/4 [00:11<00:00,  2.78s/it]\u001b[A\n",
            "Epoch 1: 100% 13/13 [00:54<00:00,  4.16s/it, v_num=18, val_iou_score=0.649, val_f1_score=0.787, train_iou_score=0.617, train_f1_score=0.761]\n",
            "Validation: |          | 0/? [00:00<?, ?it/s]\u001b[A\n",
            "Validation:   0% 0/4 [00:00<?, ?it/s]        \u001b[A\n",
            "Validation DataLoader 0:   0% 0/4 [00:00<?, ?it/s]\u001b[A\n",
            "Validation DataLoader 0: 100% 4/4 [00:22<00:00,  5.66s/it]\u001b[A\n",
            "Epoch 2: 100% 13/13 [01:15<00:00,  5.80s/it, v_num=18, val_iou_score=0.688, val_f1_score=0.814, train_iou_score=0.620, train_f1_score=0.763]\n",
            "Validation: |          | 0/? [00:00<?, ?it/s]\u001b[A\n",
            "Validation:   0% 0/4 [00:00<?, ?it/s]        \u001b[A\n",
            "Validation DataLoader 0:   0% 0/4 [00:00<?, ?it/s]\u001b[A\n",
            "Validation DataLoader 0: 100% 4/4 [00:09<00:00,  2.47s/it]\u001b[A\n",
            "Epoch 3: 100% 13/13 [00:58<00:00,  4.51s/it, v_num=18, val_iou_score=0.616, val_f1_score=0.760, train_iou_score=0.629, train_f1_score=0.771]\n",
            "Validation: |          | 0/? [00:00<?, ?it/s]\u001b[A\n",
            "Validation:   0% 0/4 [00:00<?, ?it/s]        \u001b[A\n",
            "Validation DataLoader 0:   0% 0/4 [00:00<?, ?it/s]\u001b[A\n",
            "Validation DataLoader 0: 100% 4/4 [00:09<00:00,  2.45s/it]\u001b[A\n",
            "Epoch 4: 100% 13/13 [01:01<00:00,  4.76s/it, v_num=18, val_iou_score=0.694, val_f1_score=0.818, train_iou_score=0.644, train_f1_score=0.776]\n",
            "Validation: |          | 0/? [00:00<?, ?it/s]\u001b[A\n",
            "Validation:   0% 0/4 [00:00<?, ?it/s]        \u001b[A\n",
            "Validation DataLoader 0:   0% 0/4 [00:00<?, ?it/s]\u001b[A\n",
            "Validation DataLoader 0: 100% 4/4 [00:08<00:00,  2.17s/it]\u001b[A\n",
            "Epoch 5: 100% 13/13 [01:07<00:00,  5.20s/it, v_num=18, val_iou_score=0.687, val_f1_score=0.814, train_iou_score=0.657, train_f1_score=0.791]\n",
            "Validation: |          | 0/? [00:00<?, ?it/s]\u001b[A\n",
            "Validation:   0% 0/4 [00:00<?, ?it/s]        \u001b[A\n",
            "Validation DataLoader 0:   0% 0/4 [00:00<?, ?it/s]\u001b[A\n",
            "Validation DataLoader 0: 100% 4/4 [00:07<00:00,  1.90s/it]\u001b[A\n",
            "Epoch 6: 100% 13/13 [01:02<00:00,  4.79s/it, v_num=18, val_iou_score=0.575, val_f1_score=0.725, train_iou_score=0.678, train_f1_score=0.808]\n",
            "Validation: |          | 0/? [00:00<?, ?it/s]\u001b[A\n",
            "Validation:   0% 0/4 [00:00<?, ?it/s]        \u001b[A\n",
            "Validation DataLoader 0:   0% 0/4 [00:00<?, ?it/s]\u001b[A\n",
            "Validation DataLoader 0: 100% 4/4 [00:08<00:00,  2.07s/it]\u001b[A\n",
            "Epoch 7: 100% 13/13 [01:09<00:00,  5.32s/it, v_num=18, val_iou_score=0.715, val_f1_score=0.833, train_iou_score=0.697, train_f1_score=0.821]\n",
            "Validation: |          | 0/? [00:00<?, ?it/s]\u001b[A\n",
            "Validation:   0% 0/4 [00:00<?, ?it/s]        \u001b[A\n",
            "Validation DataLoader 0:   0% 0/4 [00:00<?, ?it/s]\u001b[A\n",
            "Validation DataLoader 0: 100% 4/4 [00:09<00:00,  2.29s/it]\u001b[A\n",
            "Epoch 8: 100% 13/13 [01:05<00:00,  5.05s/it, v_num=18, val_iou_score=0.692, val_f1_score=0.817, train_iou_score=0.660, train_f1_score=0.795]\n",
            "Validation: |          | 0/? [00:00<?, ?it/s]\u001b[A\n",
            "Validation:   0% 0/4 [00:00<?, ?it/s]        \u001b[A\n",
            "Validation DataLoader 0:   0% 0/4 [00:00<?, ?it/s]\u001b[A\n",
            "Validation DataLoader 0: 100% 4/4 [00:08<00:00,  2.10s/it]\u001b[A\n",
            "Epoch 9: 100% 13/13 [01:06<00:00,  5.11s/it, v_num=18, val_iou_score=0.678, val_f1_score=0.807, train_iou_score=0.708, train_f1_score=0.829]\n",
            "Validation: |          | 0/? [00:00<?, ?it/s]\u001b[A\n",
            "Validation:   0% 0/4 [00:00<?, ?it/s]        \u001b[A\n",
            "Validation DataLoader 0:   0% 0/4 [00:00<?, ?it/s]\u001b[A\n",
            "Validation DataLoader 0: 100% 4/4 [00:08<00:00,  2.10s/it]\u001b[A\n",
            "Epoch 10: 100% 13/13 [00:47<00:00,  3.65s/it, v_num=18, val_iou_score=0.600, val_f1_score=0.746, train_iou_score=0.694, train_f1_score=0.818]\n",
            "Validation: |          | 0/? [00:00<?, ?it/s]\u001b[A\n",
            "Validation:   0% 0/4 [00:00<?, ?it/s]        \u001b[A\n",
            "Validation DataLoader 0:   0% 0/4 [00:00<?, ?it/s]\u001b[A\n",
            "Validation DataLoader 0: 100% 4/4 [00:08<00:00,  2.03s/it]\u001b[A\n",
            "Epoch 11: 100% 13/13 [00:52<00:00,  4.05s/it, v_num=18, val_iou_score=0.647, val_f1_score=0.783, train_iou_score=0.676, train_f1_score=0.807]\n",
            "Validation: |          | 0/? [00:00<?, ?it/s]\u001b[A\n",
            "Validation:   0% 0/4 [00:00<?, ?it/s]        \u001b[A\n",
            "Validation DataLoader 0:   0% 0/4 [00:00<?, ?it/s]\u001b[A\n",
            "Validation DataLoader 0: 100% 4/4 [00:09<00:00,  2.35s/it]\u001b[A\n",
            "Epoch 12: 100% 13/13 [01:06<00:00,  5.15s/it, v_num=18, val_iou_score=0.634, val_f1_score=0.768, train_iou_score=0.652, train_f1_score=0.788]\n",
            "Validation: |          | 0/? [00:00<?, ?it/s]\u001b[A\n",
            "Validation:   0% 0/4 [00:00<?, ?it/s]        \u001b[A\n",
            "Validation DataLoader 0:   0% 0/4 [00:00<?, ?it/s]\u001b[A\n",
            "Validation DataLoader 0: 100% 4/4 [00:08<00:00,  2.17s/it]\u001b[A\n",
            "Epoch 13: 100% 13/13 [01:16<00:00,  5.90s/it, v_num=18, val_iou_score=0.674, val_f1_score=0.805, train_iou_score=0.662, train_f1_score=0.796]\n",
            "Validation: |          | 0/? [00:00<?, ?it/s]\u001b[A\n",
            "Validation:   0% 0/4 [00:00<?, ?it/s]        \u001b[A\n",
            "Validation DataLoader 0:   0% 0/4 [00:00<?, ?it/s]\u001b[A\n",
            "Validation DataLoader 0: 100% 4/4 [00:08<00:00,  2.02s/it]\u001b[A\n",
            "Epoch 14: 100% 13/13 [00:51<00:00,  3.96s/it, v_num=18, val_iou_score=0.707, val_f1_score=0.825, train_iou_score=0.702, train_f1_score=0.824]\n",
            "Validation: |          | 0/? [00:00<?, ?it/s]\u001b[A\n",
            "Validation:   0% 0/4 [00:00<?, ?it/s]        \u001b[A\n",
            "Validation DataLoader 0:   0% 0/4 [00:00<?, ?it/s]\u001b[A\n",
            "Validation DataLoader 0: 100% 4/4 [00:07<00:00,  1.92s/it]\u001b[A\n",
            "Epoch 15: 100% 13/13 [01:15<00:00,  5.84s/it, v_num=18, val_iou_score=0.767, val_f1_score=0.865, train_iou_score=0.664, train_f1_score=0.794]\n",
            "Validation: |          | 0/? [00:00<?, ?it/s]\u001b[A\n",
            "Validation:   0% 0/4 [00:00<?, ?it/s]        \u001b[A\n",
            "Validation DataLoader 0:   0% 0/4 [00:00<?, ?it/s]\u001b[A\n",
            "Validation DataLoader 0: 100% 4/4 [00:08<00:00,  2.17s/it]\u001b[A\n",
            "Epoch 15: 100% 13/13 [01:39<00:00,  7.68s/it, v_num=18, val_iou_score=0.625, val_f1_score=0.767, train_iou_score=0.664, train_f1_score=0.794]\n"
          ]
        }
      ],
      "source": [
        "!pipenv run python main.py"
      ]
    },
    {
      "cell_type": "code",
      "execution_count": 9,
      "metadata": {
        "id": "XfkrYlxcpvOG",
        "colab": {
          "base_uri": "https://localhost:8080/"
        },
        "outputId": "c97c4d28-5983-4931-d2f9-37916003627d"
      },
      "outputs": [
        {
          "output_type": "stream",
          "name": "stdout",
          "text": [
            "imagewise-micro  tensor(0.9069)\n",
            "imagewise-micro  tensor(0.6364)\n",
            "imagewise-micro  tensor(0.3162)\n",
            "imagewise-micro  tensor(0.6095)\n",
            "imagewise-micro  tensor(0.8012)\n",
            "imagewise-micro  tensor(0.8035)\n",
            "imagewise-micro  tensor(0.4887)\n",
            "imagewise-micro  tensor(0.6306)\n",
            "imagewise-micro  tensor(0.7275)\n",
            "imagewise-micro  tensor(0.7487)\n",
            "imagewise-micro  tensor(0.6520)\n",
            "imagewise-micro  tensor(0.7750)\n",
            "imagewise-micro  tensor(0.4398)\n",
            "imagewise-micro  tensor(0.7370)\n",
            "imagewise-micro  tensor(0.6928)\n",
            "imagewise-micro  tensor(0.5556)\n",
            "imagewise-micro  tensor(0.6118)\n",
            "imagewise-micro  tensor(0.6352)\n",
            "imagewise-micro  tensor(0.8032)\n",
            "imagewise-micro  tensor(0.6925)\n",
            "imagewise-micro  tensor(0.7033)\n",
            "imagewise-micro  tensor(0.4987)\n",
            "imagewise-micro  tensor(0.5545)\n",
            "imagewise-micro  tensor(0.5959)\n",
            "imagewise-micro  tensor(0.6824)\n",
            "imagewise-micro  tensor(0.6616)\n",
            "imagewise-micro  tensor(0.6118)\n",
            "imagewise-micro  tensor(0.8329)\n",
            "imagewise-micro  tensor(0.7848)\n",
            "imagewise-micro  tensor(0.8644)\n",
            "imagewise-micro  tensor(0.8554)\n",
            "imagewise-micro  tensor(0.)\n",
            "imagewise-micro  tensor(0.7307)\n",
            "imagewise-micro  tensor(0.8398)\n",
            "imagewise-micro  tensor(0.8025)\n",
            "imagewise-micro  tensor(0.8497)\n",
            "imagewise-micro  tensor(0.9076)\n",
            "imagewise-micro  tensor(0.8439)\n",
            "imagewise-micro  tensor(0.8889)\n",
            "imagewise-micro  tensor(0.8320)\n",
            "imagewise-micro  tensor(0.4181)\n",
            "imagewise-micro  tensor(0.6135)\n",
            "imagewise-micro  tensor(0.7478)\n",
            "imagewise-micro  tensor(0.8674)\n",
            "imagewise-micro  tensor(0.8751)\n",
            "imagewise-micro  tensor(0.7862)\n",
            "imagewise-micro  tensor(0.7807)\n",
            "imagewise-micro  tensor(0.7090)\n",
            "imagewise-micro  tensor(0.7086)\n",
            "imagewise-micro  tensor(0.7217)\n",
            "imagewise-micro  tensor(0.6526)\n",
            "imagewise-micro  tensor(0.7153)\n",
            "imagewise-micro  tensor(0.7484)\n",
            "imagewise-micro  tensor(0.7996)\n",
            "imagewise-micro  tensor(0.8581)\n",
            "imagewise-micro  tensor(0.8531)\n",
            "imagewise-micro  tensor(0.6615)\n",
            "imagewise-micro  tensor(0.7302)\n",
            "imagewise-micro  tensor(0.7742)\n",
            "imagewise-micro  tensor(0.7674)\n",
            "imagewise-micro  tensor(0.7972)\n",
            "imagewise-micro  tensor(0.8019)\n",
            "imagewise-micro  tensor(0.8167)\n",
            "imagewise-micro  tensor(0.6052)\n",
            "imagewise-micro  tensor(0.8055)\n",
            "imagewise-micro  tensor(0.8116)\n",
            "imagewise-micro  tensor(0.8291)\n",
            "imagewise-micro  tensor(0.6693)\n",
            "imagewise-micro  tensor(0.7418)\n",
            "imagewise-micro  tensor(0.9211)\n",
            "imagewise-micro  tensor(0.7890)\n",
            "imagewise-micro  tensor(0.8192)\n",
            "imagewise-micro  tensor(0.6686)\n",
            "imagewise-micro  tensor(0.0240)\n",
            "{'test_iou_score': tensor(0.7729), 'test_f1_score': tensor(0.8719)}\n"
          ]
        }
      ],
      "source": [
        "!pipenv run python test.py --model=\"./data/best.pth\""
      ]
    }
  ],
  "metadata": {
    "accelerator": "GPU",
    "colab": {
      "provenance": []
    },
    "kernelspec": {
      "display_name": "Python 3",
      "name": "python3"
    },
    "language_info": {
      "name": "python"
    }
  },
  "nbformat": 4,
  "nbformat_minor": 0
}