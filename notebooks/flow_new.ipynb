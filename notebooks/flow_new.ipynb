{
  "cells": [
    {
      "cell_type": "code",
      "execution_count": 1,
      "metadata": {
        "colab": {
          "base_uri": "https://localhost:8080/"
        },
        "id": "ctNo7kwQm4H3",
        "outputId": "1183ba93-722c-4c50-fe2d-da746d8b06e4"
      },
      "outputs": [
        {
          "output_type": "stream",
          "name": "stdout",
          "text": [
            "Mounted at /content/drive\n"
          ]
        }
      ],
      "source": [
        "from google.colab import drive\n",
        "drive.mount('/content/drive')"
      ]
    },
    {
      "cell_type": "code",
      "execution_count": 2,
      "metadata": {
        "colab": {
          "base_uri": "https://localhost:8080/"
        },
        "id": "gy__Lcx0goRh",
        "outputId": "599356b9-d73a-4455-96a7-1fdc19a81da8"
      },
      "outputs": [
        {
          "output_type": "stream",
          "name": "stdout",
          "text": [
            "/content/drive/MyDrive/geoalert/auto-ml\n"
          ]
        }
      ],
      "source": [
        "%cd \"/content/drive/MyDrive/geoalert/auto-ml\""
      ]
    },
    {
      "cell_type": "code",
      "execution_count": 3,
      "metadata": {
        "colab": {
          "base_uri": "https://localhost:8080/"
        },
        "id": "VoiUHf1Dg2OU",
        "outputId": "3fe5b61e-9cee-4619-8f87-e8fcfddc8d9b"
      },
      "outputs": [
        {
          "output_type": "stream",
          "name": "stdout",
          "text": [
            "/content/drive/MyDrive/geoalert/auto-ml\n"
          ]
        }
      ],
      "source": [
        "import os\n",
        "\n",
        "print(os.getcwd())"
      ]
    },
    {
      "cell_type": "code",
      "execution_count": 4,
      "metadata": {
        "colab": {
          "base_uri": "https://localhost:8080/"
        },
        "id": "7Nvs6XIZg9P_",
        "outputId": "8a26b575-6a11-4841-dcb3-b677b144202a"
      },
      "outputs": [
        {
          "output_type": "stream",
          "name": "stdout",
          "text": [
            "Collecting pipenv\n",
            "  Downloading pipenv-2023.11.17-py3-none-any.whl (3.2 MB)\n",
            "\u001b[2K     \u001b[90m━━━━━━━━━━━━━━━━━━━━━━━━━━━━━━━━━━━━━━━━\u001b[0m \u001b[32m3.2/3.2 MB\u001b[0m \u001b[31m13.6 MB/s\u001b[0m eta \u001b[36m0:00:00\u001b[0m\n",
            "\u001b[?25hRequirement already satisfied: certifi in /usr/local/lib/python3.10/dist-packages (from pipenv) (2023.11.17)\n",
            "Requirement already satisfied: setuptools>=67 in /usr/local/lib/python3.10/dist-packages (from pipenv) (67.7.2)\n",
            "Collecting virtualenv>=20.24.2 (from pipenv)\n",
            "  Downloading virtualenv-20.25.0-py3-none-any.whl (3.8 MB)\n",
            "\u001b[2K     \u001b[90m━━━━━━━━━━━━━━━━━━━━━━━━━━━━━━━━━━━━━━━━\u001b[0m \u001b[32m3.8/3.8 MB\u001b[0m \u001b[31m32.9 MB/s\u001b[0m eta \u001b[36m0:00:00\u001b[0m\n",
            "\u001b[?25hCollecting distlib<1,>=0.3.7 (from virtualenv>=20.24.2->pipenv)\n",
            "  Downloading distlib-0.3.8-py2.py3-none-any.whl (468 kB)\n",
            "\u001b[2K     \u001b[90m━━━━━━━━━━━━━━━━━━━━━━━━━━━━━━━━━━━━━━━━\u001b[0m \u001b[32m468.9/468.9 kB\u001b[0m \u001b[31m39.7 MB/s\u001b[0m eta \u001b[36m0:00:00\u001b[0m\n",
            "\u001b[?25hRequirement already satisfied: filelock<4,>=3.12.2 in /usr/local/lib/python3.10/dist-packages (from virtualenv>=20.24.2->pipenv) (3.13.1)\n",
            "Requirement already satisfied: platformdirs<5,>=3.9.1 in /usr/local/lib/python3.10/dist-packages (from virtualenv>=20.24.2->pipenv) (4.1.0)\n",
            "Installing collected packages: distlib, virtualenv, pipenv\n",
            "Successfully installed distlib-0.3.8 pipenv-2023.11.17 virtualenv-20.25.0\n"
          ]
        }
      ],
      "source": [
        "!pip install pipenv"
      ]
    },
    {
      "cell_type": "code",
      "execution_count": 5,
      "metadata": {
        "colab": {
          "base_uri": "https://localhost:8080/"
        },
        "id": "qRzRyBxshKDU",
        "outputId": "64b9aae6-399d-4cef-c8f6-0967b65cd3ba"
      },
      "outputs": [
        {
          "output_type": "stream",
          "name": "stdout",
          "text": [
            "\u001b[1mCreating a virtualenv for this project...\u001b[0m\n",
            "Pipfile: \u001b[33m\u001b[1m/content/drive/MyDrive/geoalert/auto-ml/Pipfile\u001b[0m\n",
            "\u001b[1mUsing\u001b[0m \u001b[33m\u001b[1m/usr/local/bin/python\u001b[0m \u001b[32m(3.10.12)\u001b[0m \u001b[1mto create virtualenv...\u001b[0m\n",
            "\u001b[2K\u001b[32m⠇\u001b[0m Creating virtual environment...\u001b[36mcreated virtual environment CPython3.10.12.final.0-64 in 1322ms\n",
            "  creator CPython3Posix(dest=/root/.local/share/virtualenvs/auto-ml-vgcjE7rG, clear=False, no_vcs_ignore=False, global=False)\n",
            "  seeder FromAppData(download=False, pip=bundle, setuptools=bundle, wheel=bundle, via=copy, app_data_dir=/root/.local/share/virtualenv)\n",
            "    added seed packages: pip==23.3.1, setuptools==69.0.2, wheel==0.42.0\n",
            "  activators BashActivator,CShellActivator,FishActivator,NushellActivator,PowerShellActivator,PythonActivator\n",
            "\u001b[0m\n",
            "✔ Successfully created virtual environment!\n",
            "\u001b[2K\u001b[32m⠇\u001b[0m Creating virtual environment...\n",
            "\u001b[1A\u001b[2K\u001b[32mVirtualenv location: /root/.local/share/virtualenvs/auto-ml-vgcjE7rG\u001b[0m\n",
            "Launching subshell in virtual environment...\n",
            " . /root/.local/share/virtualenvs/auto-ml-vgcjE7rG/bin/activate\n",
            "\u001b[?2004h\u001b[01;34m/content/drive/MyDrive/geoalert/auto-ml\u001b[00m#  . /root/.local/share/virtualenvs/auto-ml-vgcjE7rG/bin/activate\n",
            "\u001b[?2004h(auto-ml) \u001b[01;34m/content/drive/MyDrive/geoalert/auto-ml\u001b[00m# \n",
            "Aborted!\n",
            "^C\n"
          ]
        }
      ],
      "source": [
        "!pipenv shell"
      ]
    },
    {
      "cell_type": "code",
      "execution_count": 6,
      "metadata": {
        "colab": {
          "base_uri": "https://localhost:8080/"
        },
        "id": "kEc5NQhriaVw",
        "outputId": "9b29593a-4a5f-4861-a1c6-c84db78c7cf3"
      },
      "outputs": [
        {
          "output_type": "stream",
          "name": "stdout",
          "text": [
            "\u001b[1mInstalling dependencies from Pipfile.lock \u001b[0m\u001b[1m(\u001b[0m\u001b[1m46d49f\u001b[0m\u001b[1m)\u001b[0m\u001b[1;33m...\u001b[0m\n",
            "To activate this project's virtualenv, run \u001b[33mpipenv shell\u001b[0m.\n",
            "Alternatively, run a command inside the virtualenv with \u001b[33mpipenv run\u001b[0m.\n"
          ]
        }
      ],
      "source": [
        "!pipenv install"
      ]
    },
    {
      "cell_type": "code",
      "execution_count": 7,
      "metadata": {
        "colab": {
          "base_uri": "https://localhost:8080/"
        },
        "id": "yr5P-tzcocgN",
        "outputId": "598799f0-e938-4465-cefd-896039d17c0b"
      },
      "outputs": [
        {
          "output_type": "stream",
          "name": "stdout",
          "text": [
            "\u001b[1;32mInstalling cuda-python\u001b[0m\u001b[1;33m...\u001b[0m\n",
            "\u001b[?25lResolving cuda-python\u001b[33m...\u001b[0m\n",
            "\u001b[32m⠋\u001b[0m Installing...\r\u001b[2K\u001b[1mAdded \u001b[0m\u001b[1;32mcuda-python\u001b[0m to Pipfile's \u001b[1;33m[\u001b[0m\u001b[33mpackages\u001b[0m\u001b[1;33m]\u001b[0m \u001b[33m...\u001b[0m\n",
            "\u001b[32m⠋\u001b[0m Installing cuda-python...\r\u001b[2K✔ Installation Succeeded\n",
            "\u001b[32m⠋\u001b[0m Installing cuda-python...\r\u001b[2K\u001b[32m⠋\u001b[0m Installing cuda-python...\n",
            "\u001b[?25h\r\u001b[1A\u001b[2K\u001b[1;33mPipfile.lock \u001b[0m\u001b[1;33m(\u001b[0m\u001b[1;33m46d49f\u001b[0m\u001b[1;33m)\u001b[0m\u001b[1;33m out of date, updating to \u001b[0m\u001b[1;33m(\u001b[0m\u001b[1;33me892fb\u001b[0m\u001b[1;33m)\u001b[0m\u001b[1;33m...\u001b[0m\n",
            "Locking\u001b[0m \u001b[33m[packages]\u001b[0m dependencies...\u001b[0m\n",
            "\u001b[?25lBuilding requirements\u001b[33m...\u001b[0m\n",
            "\u001b[2KResolving dependencies\u001b[33m...\u001b[0m\n",
            "\u001b[2K✔ Success!\n",
            "\u001b[2K\u001b[32m⠙\u001b[0m Locking...\n",
            "\u001b[1A\u001b[2KLocking\u001b[0m \u001b[33m[dev-packages]\u001b[0m dependencies...\u001b[0m\n",
            "\u001b[1mUpdated Pipfile.lock (08589541d0df68dd576c388618f5f6bcbe0e472a72e11bdf8d682e3ecde892fb)!\u001b[0m\n",
            "\u001b[1mInstalling dependencies from Pipfile.lock \u001b[0m\u001b[1m(\u001b[0m\u001b[1me892fb\u001b[0m\u001b[1m)\u001b[0m\u001b[1;33m...\u001b[0m\n",
            "To activate this project's virtualenv, run \u001b[33mpipenv shell\u001b[0m.\n",
            "Alternatively, run a command inside the virtualenv with \u001b[33mpipenv run\u001b[0m.\n"
          ]
        }
      ],
      "source": [
        "!pipenv install cuda-python"
      ]
    },
    {
      "cell_type": "code",
      "execution_count": null,
      "metadata": {
        "colab": {
          "background_save": true,
          "base_uri": "https://localhost:8080/"
        },
        "id": "7SMYU8UImWHL",
        "outputId": "118760c3-1cc0-40c4-ec19-04330a726bec"
      },
      "outputs": [
        {
          "name": "stdout",
          "output_type": "stream",
          "text": [
            "Downloading: \"https://github.com/qubvel/segmentation_models.pytorch/releases/download/v0.0.2/mit_b2.pth\" to /root/.cache/torch/hub/checkpoints/mit_b2.pth\n",
            "100% 94.3M/94.3M [00:00<00:00, 309MB/s]\n",
            "imagewise-micro  tensor(0.9055)\n",
            "imagewise-micro  tensor(0.7545)\n",
            "imagewise-micro  tensor(0.5448)\n",
            "imagewise-micro  tensor(0.9051)\n",
            "imagewise-micro  tensor(0.7850)\n",
            "imagewise-micro  tensor(0.8470)\n",
            "imagewise-micro  tensor(0.5265)\n",
            "imagewise-micro  tensor(0.6530)\n",
            "imagewise-micro  tensor(0.7220)\n",
            "imagewise-micro  tensor(0.7784)\n",
            "imagewise-micro  tensor(0.6651)\n",
            "imagewise-micro  tensor(0.7948)\n",
            "imagewise-micro  tensor(0.4155)\n",
            "imagewise-micro  tensor(0.8076)\n",
            "imagewise-micro  tensor(0.7891)\n",
            "imagewise-micro  tensor(0.5645)\n",
            "imagewise-micro  tensor(0.6380)\n",
            "imagewise-micro  tensor(0.6693)\n",
            "imagewise-micro  tensor(0.8167)\n",
            "imagewise-micro  tensor(0.7103)\n",
            "imagewise-micro  tensor(0.7413)\n",
            "imagewise-micro  tensor(0.0269)\n",
            "imagewise-micro  tensor(0.7159)\n",
            "imagewise-micro  tensor(0.6912)\n",
            "imagewise-micro  tensor(0.7067)\n",
            "imagewise-micro  tensor(0.6958)\n",
            "imagewise-micro  tensor(0.7318)\n",
            "imagewise-micro  tensor(0.8415)\n",
            "imagewise-micro  tensor(0.7991)\n",
            "imagewise-micro  tensor(0.8862)\n",
            "imagewise-micro  tensor(0.8877)\n",
            "imagewise-micro  tensor(0.)\n",
            "imagewise-micro  tensor(0.8122)\n",
            "imagewise-micro  tensor(0.8745)\n",
            "imagewise-micro  tensor(0.8584)\n",
            "imagewise-micro  tensor(0.8630)\n",
            "imagewise-micro  tensor(0.8971)\n",
            "imagewise-micro  tensor(0.8368)\n",
            "imagewise-micro  tensor(0.8981)\n",
            "imagewise-micro  tensor(0.8876)\n",
            "imagewise-micro  tensor(0.5046)\n",
            "imagewise-micro  tensor(0.6681)\n",
            "imagewise-micro  tensor(0.7779)\n",
            "imagewise-micro  tensor(0.8793)\n",
            "imagewise-micro  tensor(0.8772)\n",
            "imagewise-micro  tensor(0.8054)\n",
            "imagewise-micro  tensor(0.8627)\n",
            "imagewise-micro  tensor(0.8443)\n",
            "imagewise-micro  tensor(0.7716)\n",
            "imagewise-micro  tensor(0.7964)\n",
            "imagewise-micro  tensor(0.7151)\n",
            "imagewise-micro  tensor(0.7719)\n",
            "imagewise-micro  tensor(0.7787)\n",
            "imagewise-micro  tensor(0.8451)\n",
            "imagewise-micro  tensor(0.8690)\n",
            "imagewise-micro  tensor(0.8685)\n",
            "imagewise-micro  tensor(0.5849)\n",
            "imagewise-micro  tensor(0.7325)\n",
            "imagewise-micro  tensor(0.8017)\n",
            "imagewise-micro  tensor(0.8036)\n",
            "imagewise-micro  tensor(0.8315)\n",
            "imagewise-micro  tensor(0.8053)\n",
            "imagewise-micro  tensor(0.8341)\n",
            "imagewise-micro  tensor(0.6899)\n",
            "imagewise-micro  tensor(0.8597)\n",
            "imagewise-micro  tensor(0.8525)\n",
            "imagewise-micro  tensor(0.8379)\n",
            "imagewise-micro  tensor(0.7251)\n",
            "imagewise-micro  tensor(0.6778)\n",
            "imagewise-micro  tensor(0.9002)\n",
            "imagewise-micro  tensor(0.8964)\n",
            "imagewise-micro  tensor(0.8334)\n",
            "imagewise-micro  tensor(0.7986)\n",
            "imagewise-micro  tensor(0.0011)\n",
            "{'test_iou_score': tensor(0.8072), 'test_f1_score': tensor(0.8933)}\n"
          ]
        }
      ],
      "source": [
        "!pipenv run python3 test.py --model=\"./data/Unet_mit_b2_roofs_logits.pth\""
      ]
    },
    {
      "cell_type": "code",
      "execution_count": 8,
      "metadata": {
        "colab": {
          "base_uri": "https://localhost:8080/"
        },
        "id": "hfvrUvOyRcvk",
        "outputId": "eb1c7581-6c00-422d-9543-495f0e733c17"
      },
      "outputs": [
        {
          "output_type": "stream",
          "name": "stdout",
          "text": [
            "Downloading: \"https://github.com/qubvel/segmentation_models.pytorch/releases/download/v0.0.2/mit_b2.pth\" to /root/.cache/torch/hub/checkpoints/mit_b2.pth\n",
            "100% 94.3M/94.3M [00:00<00:00, 293MB/s]\n",
            "GPU available: True (cuda), used: True\n",
            "TPU available: False, using: 0 TPU cores\n",
            "IPU available: False, using: 0 IPUs\n",
            "HPU available: False, using: 0 HPUs\n",
            "/root/.local/share/virtualenvs/auto-ml-vgcjE7rG/lib/python3.10/site-packages/pytorch_lightning/trainer/connectors/logger_connector/logger_connector.py:67: Starting from v1.9.0, `tensorboardX` has been removed as a dependency of the `pytorch_lightning` package, due to potential conflicts with other packages in the ML ecosystem. For this reason, `logger=True` will use `CSVLogger` as the default logger, unless the `tensorboard` or `tensorboardX` packages are found. Please `pip install lightning[extra]` or one of them to enable TensorBoard support by default\n",
            "Missing logger folder: /content/drive/MyDrive/geoalert/auto-ml/lightning_logs\n",
            "LOCAL_RANK: 0 - CUDA_VISIBLE_DEVICES: [0]\n",
            "\n",
            "  | Name    | Type        | Params\n",
            "----------------------------------------\n",
            "0 | model   | Unet        | 27.5 M\n",
            "1 | loss_fn | JaccardLoss | 0     \n",
            "----------------------------------------\n",
            "27.5 M    Trainable params\n",
            "0         Non-trainable params\n",
            "27.5 M    Total params\n",
            "109.908   Total estimated model params size (MB)\n",
            "Sanity Checking: |          | 0/? [00:00<?, ?it/s]/root/.local/share/virtualenvs/auto-ml-vgcjE7rG/lib/python3.10/site-packages/pytorch_lightning/trainer/connectors/data_connector.py:441: The 'val_dataloader' does not have many workers which may be a bottleneck. Consider increasing the value of the `num_workers` argument` to `num_workers=1` in the `DataLoader` to improve performance.\n",
            "/root/.local/share/virtualenvs/auto-ml-vgcjE7rG/lib/python3.10/site-packages/pytorch_lightning/trainer/connectors/data_connector.py:441: The 'train_dataloader' does not have many workers which may be a bottleneck. Consider increasing the value of the `num_workers` argument` to `num_workers=1` in the `DataLoader` to improve performance.\n",
            "/root/.local/share/virtualenvs/auto-ml-vgcjE7rG/lib/python3.10/site-packages/pytorch_lightning/loops/fit_loop.py:293: The number of training batches (13) is smaller than the logging interval Trainer(log_every_n_steps=50). Set a lower value for log_every_n_steps if you want to see logs for the training epoch.\n",
            "Epoch 0: 100% 13/13 [01:58<00:00,  9.11s/it, v_num=0]\n",
            "Validation: |          | 0/? [00:00<?, ?it/s]\u001b[A\n",
            "Validation:   0% 0/1 [00:00<?, ?it/s]        \u001b[A\n",
            "Validation DataLoader 0:   0% 0/1 [00:00<?, ?it/s]\u001b[A\n",
            "Validation DataLoader 0: 100% 1/1 [00:00<00:00, 47.40it/s]\u001b[A\n",
            "Validation DataLoader 0:   0% 0/3 [00:00<?, ?it/s]        \u001b[A\n",
            "Validation DataLoader 1:   0% 0/3 [00:00<?, ?it/s]\u001b[A\n",
            "Validation DataLoader 1: 100% 3/3 [00:07<00:00,  2.50s/it]\u001b[A\n",
            "Epoch 1: 100% 13/13 [01:04<00:00,  4.96s/it, v_num=0, val_0_iou_score=0.798, val_0_f1_score=0.880, val_1_iou_score=0.599, val_1_f1_score=0.748, train_0_iou_score=0.644, train_0_f1_score=0.780]\n",
            "Validation: |          | 0/? [00:00<?, ?it/s]\u001b[A\n",
            "Validation:   0% 0/1 [00:00<?, ?it/s]        \u001b[A\n",
            "Validation DataLoader 0:   0% 0/1 [00:00<?, ?it/s]\u001b[A\n",
            "Validation DataLoader 0: 100% 1/1 [00:00<00:00, 34.00it/s]\u001b[A\n",
            "Validation DataLoader 0:   0% 0/3 [00:00<?, ?it/s]        \u001b[A\n",
            "Validation DataLoader 1:   0% 0/3 [00:00<?, ?it/s]\u001b[A\n",
            "Validation DataLoader 1: 100% 3/3 [00:05<00:00,  1.71s/it]\u001b[A\n",
            "Epoch 2: 100% 13/13 [01:07<00:00,  5.20s/it, v_num=0, val_0_iou_score=0.944, val_0_f1_score=0.969, val_1_iou_score=0.616, val_1_f1_score=0.760, train_0_iou_score=0.672, train_0_f1_score=0.801]\n",
            "Validation: |          | 0/? [00:00<?, ?it/s]\u001b[A\n",
            "Validation:   0% 0/1 [00:00<?, ?it/s]        \u001b[A\n",
            "Validation DataLoader 0:   0% 0/1 [00:00<?, ?it/s]\u001b[A\n",
            "Validation DataLoader 0: 100% 1/1 [00:00<00:00, 49.95it/s]\u001b[A\n",
            "Validation DataLoader 0:   0% 0/3 [00:00<?, ?it/s]        \u001b[A\n",
            "Validation DataLoader 1:   0% 0/3 [00:00<?, ?it/s]\u001b[A\n",
            "Validation DataLoader 1: 100% 3/3 [00:05<00:00,  1.74s/it]\u001b[A\n",
            "Epoch 3: 100% 13/13 [00:53<00:00,  4.13s/it, v_num=0, val_0_iou_score=0.710, val_0_f1_score=0.784, val_1_iou_score=0.697, val_1_f1_score=0.818, train_0_iou_score=0.700, train_0_f1_score=0.823]\n",
            "Validation: |          | 0/? [00:00<?, ?it/s]\u001b[A\n",
            "Validation:   0% 0/1 [00:00<?, ?it/s]        \u001b[A\n",
            "Validation DataLoader 0:   0% 0/1 [00:00<?, ?it/s]\u001b[A\n",
            "Validation DataLoader 0: 100% 1/1 [00:00<00:00, 28.68it/s]\u001b[A\n",
            "Validation DataLoader 0:   0% 0/3 [00:00<?, ?it/s]        \u001b[A\n",
            "Validation DataLoader 1:   0% 0/3 [00:00<?, ?it/s]\u001b[A\n",
            "Validation DataLoader 1: 100% 3/3 [00:05<00:00,  1.67s/it]\u001b[A\n",
            "Epoch 4: 100% 13/13 [00:58<00:00,  4.48s/it, v_num=0, val_0_iou_score=0.799, val_0_f1_score=0.883, val_1_iou_score=0.710, val_1_f1_score=0.825, train_0_iou_score=0.658, train_0_f1_score=0.792]\n",
            "Validation: |          | 0/? [00:00<?, ?it/s]\u001b[A\n",
            "Validation:   0% 0/1 [00:00<?, ?it/s]        \u001b[A\n",
            "Validation DataLoader 0:   0% 0/1 [00:00<?, ?it/s]\u001b[A\n",
            "Validation DataLoader 0: 100% 1/1 [00:00<00:00, 50.95it/s]\u001b[A\n",
            "Validation DataLoader 0:   0% 0/3 [00:00<?, ?it/s]        \u001b[A\n",
            "Validation DataLoader 1:   0% 0/3 [00:00<?, ?it/s]\u001b[A\n",
            "Validation DataLoader 1: 100% 3/3 [00:05<00:00,  1.87s/it]\u001b[A\n",
            "Epoch 5: 100% 13/13 [01:01<00:00,  4.72s/it, v_num=0, val_0_iou_score=0.690, val_0_f1_score=0.809, val_1_iou_score=0.658, val_1_f1_score=0.794, train_0_iou_score=0.672, train_0_f1_score=0.803]\n",
            "Validation: |          | 0/? [00:00<?, ?it/s]\u001b[A\n",
            "Validation:   0% 0/1 [00:00<?, ?it/s]        \u001b[A\n",
            "Validation DataLoader 0:   0% 0/1 [00:00<?, ?it/s]\u001b[A\n",
            "Validation DataLoader 0: 100% 1/1 [00:00<00:00, 51.40it/s]\u001b[A\n",
            "Validation DataLoader 0:   0% 0/3 [00:00<?, ?it/s]        \u001b[A\n",
            "Validation DataLoader 1:   0% 0/3 [00:00<?, ?it/s]\u001b[A\n",
            "Validation DataLoader 1: 100% 3/3 [00:04<00:00,  1.66s/it]\u001b[A\n",
            "Epoch 6: 100% 13/13 [00:51<00:00,  3.98s/it, v_num=0, val_0_iou_score=0.630, val_0_f1_score=0.685, val_1_iou_score=0.466, val_1_f1_score=0.573, train_0_iou_score=0.679, train_0_f1_score=0.808]\n",
            "Validation: |          | 0/? [00:00<?, ?it/s]\u001b[A\n",
            "Validation:   0% 0/1 [00:00<?, ?it/s]        \u001b[A\n",
            "Validation DataLoader 0:   0% 0/1 [00:00<?, ?it/s]\u001b[A\n",
            "Validation DataLoader 0: 100% 1/1 [00:00<00:00, 44.31it/s]\u001b[A\n",
            "Validation DataLoader 0:   0% 0/3 [00:00<?, ?it/s]        \u001b[A\n",
            "Validation DataLoader 1:   0% 0/3 [00:00<?, ?it/s]\u001b[A\n",
            "Validation DataLoader 1: 100% 3/3 [00:04<00:00,  1.60s/it]\u001b[A\n",
            "Epoch 7: 100% 13/13 [00:54<00:00,  4.17s/it, v_num=0, val_0_iou_score=0.641, val_0_f1_score=0.703, val_1_iou_score=0.767, val_1_f1_score=0.866, train_0_iou_score=0.634, train_0_f1_score=0.776]\n",
            "Validation: |          | 0/? [00:00<?, ?it/s]\u001b[A\n",
            "Validation:   0% 0/1 [00:00<?, ?it/s]        \u001b[A\n",
            "Validation DataLoader 0:   0% 0/1 [00:00<?, ?it/s]\u001b[A\n",
            "Validation DataLoader 0: 100% 1/1 [00:00<00:00, 48.58it/s]\u001b[A\n",
            "Validation DataLoader 0:   0% 0/3 [00:00<?, ?it/s]        \u001b[A\n",
            "Validation DataLoader 1:   0% 0/3 [00:00<?, ?it/s]\u001b[A\n",
            "Validation DataLoader 1: 100% 3/3 [00:04<00:00,  1.51s/it]\u001b[A\n",
            "Epoch 8: 100% 13/13 [01:24<00:00,  6.50s/it, v_num=0, val_0_iou_score=0.541, val_0_f1_score=0.649, val_1_iou_score=0.605, val_1_f1_score=0.754, train_0_iou_score=0.666, train_0_f1_score=0.797]\n",
            "Validation: |          | 0/? [00:00<?, ?it/s]\u001b[A\n",
            "Validation:   0% 0/1 [00:00<?, ?it/s]        \u001b[A\n",
            "Validation DataLoader 0:   0% 0/1 [00:00<?, ?it/s]\u001b[A\n",
            "Validation DataLoader 0: 100% 1/1 [00:00<00:00, 39.11it/s]\u001b[A\n",
            "Validation DataLoader 0:   0% 0/3 [00:00<?, ?it/s]        \u001b[A\n",
            "Validation DataLoader 1:   0% 0/3 [00:00<?, ?it/s]\u001b[A\n",
            "Validation DataLoader 1: 100% 3/3 [00:03<00:00,  1.33s/it]\u001b[A\n",
            "Epoch 9: 100% 13/13 [01:09<00:00,  5.38s/it, v_num=0, val_0_iou_score=0.840, val_0_f1_score=0.909, val_1_iou_score=0.468, val_1_f1_score=0.633, train_0_iou_score=0.703, train_0_f1_score=0.823]\n",
            "Validation: |          | 0/? [00:00<?, ?it/s]\u001b[A\n",
            "Validation:   0% 0/1 [00:00<?, ?it/s]        \u001b[A\n",
            "Validation DataLoader 0:   0% 0/1 [00:00<?, ?it/s]\u001b[A\n",
            "Validation DataLoader 0: 100% 1/1 [00:00<00:00, 49.72it/s]\u001b[A\n",
            "Validation DataLoader 0:   0% 0/3 [00:00<?, ?it/s]        \u001b[A\n",
            "Validation DataLoader 1:   0% 0/3 [00:00<?, ?it/s]\u001b[A\n",
            "Validation DataLoader 1: 100% 3/3 [00:05<00:00,  1.80s/it]\u001b[A\n",
            "Epoch 10: 100% 13/13 [00:58<00:00,  4.50s/it, v_num=0, val_0_iou_score=0.642, val_0_f1_score=0.773, val_1_iou_score=0.670, val_1_f1_score=0.800, train_0_iou_score=0.634, train_0_f1_score=0.774]\n",
            "Validation: |          | 0/? [00:00<?, ?it/s]\u001b[A\n",
            "Validation:   0% 0/1 [00:00<?, ?it/s]        \u001b[A\n",
            "Validation DataLoader 0:   0% 0/1 [00:00<?, ?it/s]\u001b[A\n",
            "Validation DataLoader 0: 100% 1/1 [00:00<00:00, 41.60it/s]\u001b[A\n",
            "Validation DataLoader 0:   0% 0/3 [00:00<?, ?it/s]        \u001b[A\n",
            "Validation DataLoader 1:   0% 0/3 [00:00<?, ?it/s]\u001b[A\n",
            "Validation DataLoader 1: 100% 3/3 [00:04<00:00,  1.44s/it]\u001b[A\n",
            "Epoch 11: 100% 13/13 [00:58<00:00,  4.49s/it, v_num=0, val_0_iou_score=0.728, val_0_f1_score=0.832, val_1_iou_score=0.530, val_1_f1_score=0.690, train_0_iou_score=0.687, train_0_f1_score=0.814]\n",
            "Validation: |          | 0/? [00:00<?, ?it/s]\u001b[A\n",
            "Validation:   0% 0/1 [00:00<?, ?it/s]        \u001b[A\n",
            "Validation DataLoader 0:   0% 0/1 [00:00<?, ?it/s]\u001b[A\n",
            "Validation DataLoader 0: 100% 1/1 [00:00<00:00, 38.39it/s]\u001b[A\n",
            "Validation DataLoader 0:   0% 0/3 [00:00<?, ?it/s]        \u001b[A\n",
            "Validation DataLoader 1:   0% 0/3 [00:00<?, ?it/s]\u001b[A\n",
            "Validation DataLoader 1: 100% 3/3 [00:04<00:00,  1.38s/it]\u001b[A\n",
            "Epoch 12: 100% 13/13 [00:54<00:00,  4.15s/it, v_num=0, val_0_iou_score=0.673, val_0_f1_score=0.771, val_1_iou_score=0.589, val_1_f1_score=0.740, train_0_iou_score=0.632, train_0_f1_score=0.769]\n",
            "Validation: |          | 0/? [00:00<?, ?it/s]\u001b[A\n",
            "Validation:   0% 0/1 [00:00<?, ?it/s]        \u001b[A\n",
            "Validation DataLoader 0:   0% 0/1 [00:00<?, ?it/s]\u001b[A\n",
            "Validation DataLoader 0: 100% 1/1 [00:00<00:00, 27.91it/s]\u001b[A\n",
            "Validation DataLoader 0:   0% 0/3 [00:00<?, ?it/s]        \u001b[A\n",
            "Validation DataLoader 1:   0% 0/3 [00:00<?, ?it/s]\u001b[A\n",
            "Validation DataLoader 1: 100% 3/3 [00:04<00:00,  1.52s/it]\u001b[A\n",
            "Epoch 13: 100% 13/13 [01:01<00:00,  4.70s/it, v_num=0, val_0_iou_score=0.633, val_0_f1_score=0.686, val_1_iou_score=0.613, val_1_f1_score=0.752, train_0_iou_score=0.618, train_0_f1_score=0.760]\n",
            "Validation: |          | 0/? [00:00<?, ?it/s]\u001b[A\n",
            "Validation:   0% 0/1 [00:00<?, ?it/s]        \u001b[A\n",
            "Validation DataLoader 0:   0% 0/1 [00:00<?, ?it/s]\u001b[A\n",
            "Validation DataLoader 0: 100% 1/1 [00:00<00:00, 44.65it/s]\u001b[A\n",
            "Validation DataLoader 0:   0% 0/3 [00:00<?, ?it/s]        \u001b[A\n",
            "Validation DataLoader 1:   0% 0/3 [00:00<?, ?it/s]\u001b[A\n",
            "Validation DataLoader 1: 100% 3/3 [00:04<00:00,  1.37s/it]\u001b[A\n",
            "Epoch 14: 100% 13/13 [01:01<00:00,  4.69s/it, v_num=0, val_0_iou_score=0.720, val_0_f1_score=0.757, val_1_iou_score=0.639, val_1_f1_score=0.777, train_0_iou_score=0.669, train_0_f1_score=0.799]\n",
            "Validation: |          | 0/? [00:00<?, ?it/s]\u001b[A\n",
            "Validation:   0% 0/1 [00:00<?, ?it/s]        \u001b[A\n",
            "Validation DataLoader 0:   0% 0/1 [00:00<?, ?it/s]\u001b[A\n",
            "Validation DataLoader 0: 100% 1/1 [00:00<00:00, 49.66it/s]\u001b[A\n",
            "Validation DataLoader 0:   0% 0/3 [00:00<?, ?it/s]        \u001b[A\n",
            "Validation DataLoader 1:   0% 0/3 [00:00<?, ?it/s]\u001b[A\n",
            "Validation DataLoader 1: 100% 3/3 [00:04<00:00,  1.52s/it]\u001b[A\n",
            "Epoch 15: 100% 13/13 [01:06<00:00,  5.14s/it, v_num=0, val_0_iou_score=0.676, val_0_f1_score=0.772, val_1_iou_score=0.666, val_1_f1_score=0.799, train_0_iou_score=0.648, train_0_f1_score=0.785]\n",
            "Validation: |          | 0/? [00:00<?, ?it/s]\u001b[A\n",
            "Validation:   0% 0/1 [00:00<?, ?it/s]        \u001b[A\n",
            "Validation DataLoader 0:   0% 0/1 [00:00<?, ?it/s]\u001b[A\n",
            "Validation DataLoader 0: 100% 1/1 [00:00<00:00, 49.53it/s]\u001b[A\n",
            "Validation DataLoader 0:   0% 0/3 [00:00<?, ?it/s]        \u001b[A\n",
            "Validation DataLoader 1:   0% 0/3 [00:00<?, ?it/s]\u001b[A\n",
            "Validation DataLoader 1: 100% 3/3 [00:04<00:00,  1.44s/it]\u001b[A\n",
            "Epoch 16: 100% 13/13 [00:47<00:00,  3.63s/it, v_num=0, val_0_iou_score=0.438, val_0_f1_score=0.526, val_1_iou_score=0.660, val_1_f1_score=0.793, train_0_iou_score=0.727, train_0_f1_score=0.841]\n",
            "Validation: |          | 0/? [00:00<?, ?it/s]\u001b[A\n",
            "Validation:   0% 0/1 [00:00<?, ?it/s]        \u001b[A\n",
            "Validation DataLoader 0:   0% 0/1 [00:00<?, ?it/s]\u001b[A\n",
            "Validation DataLoader 0: 100% 1/1 [00:00<00:00, 45.43it/s]\u001b[A\n",
            "Validation DataLoader 0:   0% 0/3 [00:00<?, ?it/s]        \u001b[A\n",
            "Validation DataLoader 1:   0% 0/3 [00:00<?, ?it/s]\u001b[A\n",
            "Validation DataLoader 1: 100% 3/3 [00:05<00:00,  1.67s/it]\u001b[A\n",
            "Epoch 17: 100% 13/13 [01:02<00:00,  4.78s/it, v_num=0, val_0_iou_score=0.281, val_0_f1_score=0.404, val_1_iou_score=0.735, val_1_f1_score=0.845, train_0_iou_score=0.689, train_0_f1_score=0.814]\n",
            "Validation: |          | 0/? [00:00<?, ?it/s]\u001b[A\n",
            "Validation:   0% 0/1 [00:00<?, ?it/s]        \u001b[A\n",
            "Validation DataLoader 0:   0% 0/1 [00:00<?, ?it/s]\u001b[A\n",
            "Validation DataLoader 0: 100% 1/1 [00:00<00:00, 47.36it/s]\u001b[A\n",
            "Validation DataLoader 0:   0% 0/3 [00:00<?, ?it/s]        \u001b[A\n",
            "Validation DataLoader 1:   0% 0/3 [00:00<?, ?it/s]\u001b[A\n",
            "Validation DataLoader 1: 100% 3/3 [00:04<00:00,  1.51s/it]\u001b[A\n",
            "Epoch 18: 100% 13/13 [01:04<00:00,  4.96s/it, v_num=0, val_0_iou_score=0.824, val_0_f1_score=0.899, val_1_iou_score=0.644, val_1_f1_score=0.782, train_0_iou_score=0.749, train_0_f1_score=0.856]\n",
            "Validation: |          | 0/? [00:00<?, ?it/s]\u001b[A\n",
            "Validation:   0% 0/1 [00:00<?, ?it/s]        \u001b[A\n",
            "Validation DataLoader 0:   0% 0/1 [00:00<?, ?it/s]\u001b[A\n",
            "Validation DataLoader 0: 100% 1/1 [00:00<00:00, 47.18it/s]\u001b[A\n",
            "Validation DataLoader 0:   0% 0/3 [00:00<?, ?it/s]        \u001b[A\n",
            "Validation DataLoader 1:   0% 0/3 [00:00<?, ?it/s]\u001b[A\n",
            "Validation DataLoader 1: 100% 3/3 [00:04<00:00,  1.51s/it]\u001b[A\n",
            "Epoch 19: 100% 13/13 [00:53<00:00,  4.13s/it, v_num=0, val_0_iou_score=0.909, val_0_f1_score=0.951, val_1_iou_score=0.530, val_1_f1_score=0.613, train_0_iou_score=0.687, train_0_f1_score=0.813]\n",
            "Validation: |          | 0/? [00:00<?, ?it/s]\u001b[A\n",
            "Validation:   0% 0/1 [00:00<?, ?it/s]        \u001b[A\n",
            "Validation DataLoader 0:   0% 0/1 [00:00<?, ?it/s]\u001b[A\n",
            "Validation DataLoader 0: 100% 1/1 [00:00<00:00, 48.03it/s]\u001b[A\n",
            "Validation DataLoader 0:   0% 0/3 [00:00<?, ?it/s]        \u001b[A\n",
            "Validation DataLoader 1:   0% 0/3 [00:00<?, ?it/s]\u001b[A\n",
            "Validation DataLoader 1: 100% 3/3 [00:05<00:00,  1.68s/it]\u001b[A\n",
            "Epoch 20: 100% 13/13 [00:58<00:00,  4.48s/it, v_num=0, val_0_iou_score=0.976, val_0_f1_score=0.988, val_1_iou_score=0.687, val_1_f1_score=0.810, train_0_iou_score=0.746, train_0_f1_score=0.854]\n",
            "Validation: |          | 0/? [00:00<?, ?it/s]\u001b[A\n",
            "Validation:   0% 0/1 [00:00<?, ?it/s]        \u001b[A\n",
            "Validation DataLoader 0:   0% 0/1 [00:00<?, ?it/s]\u001b[A\n",
            "Validation DataLoader 0: 100% 1/1 [00:00<00:00, 47.57it/s]\u001b[A\n",
            "Validation DataLoader 0:   0% 0/3 [00:00<?, ?it/s]        \u001b[A\n",
            "Validation DataLoader 1:   0% 0/3 [00:00<?, ?it/s]\u001b[A\n",
            "Validation DataLoader 1: 100% 3/3 [00:04<00:00,  1.43s/it]\u001b[A\n",
            "Epoch 21: 100% 13/13 [01:02<00:00,  4.83s/it, v_num=0, val_0_iou_score=0.686, val_0_f1_score=0.740, val_1_iou_score=0.582, val_1_f1_score=0.729, train_0_iou_score=0.693, train_0_f1_score=0.817]\n",
            "Validation: |          | 0/? [00:00<?, ?it/s]\u001b[A\n",
            "Validation:   0% 0/1 [00:00<?, ?it/s]        \u001b[A\n",
            "Validation DataLoader 0:   0% 0/1 [00:00<?, ?it/s]\u001b[A\n",
            "Validation DataLoader 0: 100% 1/1 [00:00<00:00, 21.76it/s]\u001b[A\n",
            "Validation DataLoader 0:   0% 0/3 [00:00<?, ?it/s]        \u001b[A\n",
            "Validation DataLoader 1:   0% 0/3 [00:00<?, ?it/s]\u001b[A\n",
            "Validation DataLoader 1: 100% 3/3 [00:04<00:00,  1.52s/it]\u001b[A\n",
            "Epoch 22: 100% 13/13 [01:02<00:00,  4.82s/it, v_num=0, val_0_iou_score=0.777, val_0_f1_score=0.869, val_1_iou_score=0.700, val_1_f1_score=0.823, train_0_iou_score=0.653, train_0_f1_score=0.788]\n",
            "Validation: |          | 0/? [00:00<?, ?it/s]\u001b[A\n",
            "Validation:   0% 0/1 [00:00<?, ?it/s]        \u001b[A\n",
            "Validation DataLoader 0:   0% 0/1 [00:00<?, ?it/s]\u001b[A\n",
            "Validation DataLoader 0: 100% 1/1 [00:00<00:00, 29.18it/s]\u001b[A\n",
            "Validation DataLoader 0:   0% 0/3 [00:00<?, ?it/s]        \u001b[A\n",
            "Validation DataLoader 1:   0% 0/3 [00:00<?, ?it/s]\u001b[A\n",
            "Validation DataLoader 1: 100% 3/3 [00:04<00:00,  1.46s/it]\u001b[A\n",
            "Epoch 23: 100% 13/13 [00:48<00:00,  3.70s/it, v_num=0, val_0_iou_score=0.774, val_0_f1_score=0.871, val_1_iou_score=0.584, val_1_f1_score=0.733, train_0_iou_score=0.631, train_0_f1_score=0.773]\n",
            "Validation: |          | 0/? [00:00<?, ?it/s]\u001b[A\n",
            "Validation:   0% 0/1 [00:00<?, ?it/s]        \u001b[A\n",
            "Validation DataLoader 0:   0% 0/1 [00:00<?, ?it/s]\u001b[A\n",
            "Validation DataLoader 0: 100% 1/1 [00:00<00:00, 48.46it/s]\u001b[A\n",
            "Validation DataLoader 0:   0% 0/3 [00:00<?, ?it/s]        \u001b[A\n",
            "Validation DataLoader 1:   0% 0/3 [00:00<?, ?it/s]\u001b[A\n",
            "Validation DataLoader 1: 100% 3/3 [00:04<00:00,  1.50s/it]\u001b[A\n",
            "Epoch 24: 100% 13/13 [01:01<00:00,  4.70s/it, v_num=0, val_0_iou_score=0.721, val_0_f1_score=0.749, val_1_iou_score=0.662, val_1_f1_score=0.781, train_0_iou_score=0.613, train_0_f1_score=0.756]\n",
            "Validation: |          | 0/? [00:00<?, ?it/s]\u001b[A\n",
            "Validation:   0% 0/1 [00:00<?, ?it/s]        \u001b[A\n",
            "Validation DataLoader 0:   0% 0/1 [00:00<?, ?it/s]\u001b[A\n",
            "Validation DataLoader 0: 100% 1/1 [00:00<00:00, 34.42it/s]\u001b[A\n",
            "Validation DataLoader 0:   0% 0/3 [00:00<?, ?it/s]        \u001b[A\n",
            "Validation DataLoader 1:   0% 0/3 [00:00<?, ?it/s]\u001b[A\n",
            "Validation DataLoader 1: 100% 3/3 [00:04<00:00,  1.49s/it]\u001b[A\n",
            "Epoch 25: 100% 13/13 [00:58<00:00,  4.51s/it, v_num=0, val_0_iou_score=0.803, val_0_f1_score=0.889, val_1_iou_score=0.449, val_1_f1_score=0.611, train_0_iou_score=0.719, train_0_f1_score=0.835]\n",
            "Validation: |          | 0/? [00:00<?, ?it/s]\u001b[A\n",
            "Validation:   0% 0/1 [00:00<?, ?it/s]        \u001b[A\n",
            "Validation DataLoader 0:   0% 0/1 [00:00<?, ?it/s]\u001b[A\n",
            "Validation DataLoader 0: 100% 1/1 [00:00<00:00, 49.00it/s]\u001b[A\n",
            "Validation DataLoader 0:   0% 0/3 [00:00<?, ?it/s]        \u001b[A\n",
            "Validation DataLoader 1:   0% 0/3 [00:00<?, ?it/s]\u001b[A\n",
            "Validation DataLoader 1: 100% 3/3 [00:05<00:00,  1.68s/it]\u001b[A\n",
            "Epoch 26: 100% 13/13 [00:53<00:00,  4.09s/it, v_num=0, val_0_iou_score=0.809, val_0_f1_score=0.890, val_1_iou_score=0.710, val_1_f1_score=0.830, train_0_iou_score=0.715, train_0_f1_score=0.833]\n",
            "Validation: |          | 0/? [00:00<?, ?it/s]\u001b[A\n",
            "Validation:   0% 0/1 [00:00<?, ?it/s]        \u001b[A\n",
            "Validation DataLoader 0:   0% 0/1 [00:00<?, ?it/s]\u001b[A\n",
            "Validation DataLoader 0: 100% 1/1 [00:00<00:00, 48.86it/s]\u001b[A\n",
            "Validation DataLoader 0:   0% 0/3 [00:00<?, ?it/s]        \u001b[A\n",
            "Validation DataLoader 1:   0% 0/3 [00:00<?, ?it/s]\u001b[A\n",
            "Validation DataLoader 1: 100% 3/3 [00:04<00:00,  1.42s/it]\u001b[A\n",
            "Epoch 26: 100% 13/13 [01:15<00:00,  5.83s/it, v_num=0, val_0_iou_score=0.701, val_0_f1_score=0.806, val_1_iou_score=0.715, val_1_f1_score=0.834, train_0_iou_score=0.715, train_0_f1_score=0.833]\n"
          ]
        }
      ],
      "source": [
        "!pipenv run python main.py"
      ]
    },
    {
      "cell_type": "code",
      "execution_count": 9,
      "metadata": {
        "id": "XfkrYlxcpvOG",
        "colab": {
          "base_uri": "https://localhost:8080/"
        },
        "outputId": "6b697885-90b2-4ad2-c084-9039f47ad7f3"
      },
      "outputs": [
        {
          "output_type": "stream",
          "name": "stdout",
          "text": [
            "imagewise-micro  tensor(0.9018)\n",
            "imagewise-micro  tensor(0.6833)\n",
            "imagewise-micro  tensor(0.7020)\n",
            "imagewise-micro  tensor(0.4849)\n",
            "imagewise-micro  tensor(0.8165)\n",
            "imagewise-micro  tensor(0.8371)\n",
            "imagewise-micro  tensor(0.5401)\n",
            "imagewise-micro  tensor(0.6532)\n",
            "imagewise-micro  tensor(0.7222)\n",
            "imagewise-micro  tensor(0.7694)\n",
            "imagewise-micro  tensor(0.6534)\n",
            "imagewise-micro  tensor(0.8472)\n",
            "imagewise-micro  tensor(0.2078)\n",
            "imagewise-micro  tensor(0.7816)\n",
            "imagewise-micro  tensor(0.7195)\n",
            "imagewise-micro  tensor(0.5022)\n",
            "imagewise-micro  tensor(0.6104)\n",
            "imagewise-micro  tensor(0.6466)\n",
            "imagewise-micro  tensor(0.8016)\n",
            "imagewise-micro  tensor(0.7241)\n",
            "imagewise-micro  tensor(0.7507)\n",
            "imagewise-micro  tensor(0.4528)\n",
            "imagewise-micro  tensor(0.7112)\n",
            "imagewise-micro  tensor(0.5597)\n",
            "imagewise-micro  tensor(0.6754)\n",
            "imagewise-micro  tensor(0.6288)\n",
            "imagewise-micro  tensor(0.7023)\n",
            "imagewise-micro  tensor(0.8025)\n",
            "imagewise-micro  tensor(0.7935)\n",
            "imagewise-micro  tensor(0.8676)\n",
            "imagewise-micro  tensor(0.8602)\n",
            "imagewise-micro  tensor(0.)\n",
            "imagewise-micro  tensor(0.6537)\n",
            "imagewise-micro  tensor(0.8213)\n",
            "imagewise-micro  tensor(0.7995)\n",
            "imagewise-micro  tensor(0.8385)\n",
            "imagewise-micro  tensor(0.8600)\n",
            "imagewise-micro  tensor(0.8319)\n",
            "imagewise-micro  tensor(0.8882)\n",
            "imagewise-micro  tensor(0.8680)\n",
            "imagewise-micro  tensor(0.4772)\n",
            "imagewise-micro  tensor(0.6189)\n",
            "imagewise-micro  tensor(0.7595)\n",
            "imagewise-micro  tensor(0.8298)\n",
            "imagewise-micro  tensor(0.8500)\n",
            "imagewise-micro  tensor(0.7921)\n",
            "imagewise-micro  tensor(0.8353)\n",
            "imagewise-micro  tensor(0.8286)\n",
            "imagewise-micro  tensor(0.7465)\n",
            "imagewise-micro  tensor(0.7659)\n",
            "imagewise-micro  tensor(0.5981)\n",
            "imagewise-micro  tensor(0.7080)\n",
            "imagewise-micro  tensor(0.7504)\n",
            "imagewise-micro  tensor(0.8113)\n",
            "imagewise-micro  tensor(0.8616)\n",
            "imagewise-micro  tensor(0.8515)\n",
            "imagewise-micro  tensor(0.6795)\n",
            "imagewise-micro  tensor(0.7281)\n",
            "imagewise-micro  tensor(0.7474)\n",
            "imagewise-micro  tensor(0.7422)\n",
            "imagewise-micro  tensor(0.8111)\n",
            "imagewise-micro  tensor(0.8252)\n",
            "imagewise-micro  tensor(0.8242)\n",
            "imagewise-micro  tensor(0.6842)\n",
            "imagewise-micro  tensor(0.8035)\n",
            "imagewise-micro  tensor(0.8093)\n",
            "imagewise-micro  tensor(0.8177)\n",
            "imagewise-micro  tensor(0.7219)\n",
            "imagewise-micro  tensor(0.6632)\n",
            "imagewise-micro  tensor(0.9093)\n",
            "imagewise-micro  tensor(0.8149)\n",
            "imagewise-micro  tensor(0.8176)\n",
            "imagewise-micro  tensor(0.7171)\n",
            "imagewise-micro  tensor(0.)\n",
            "{'test_iou_score': tensor(0.7785), 'test_f1_score': tensor(0.8755)}\n"
          ]
        }
      ],
      "source": [
        "!pipenv run python test.py --model=\"./data/best.pth\""
      ]
    }
  ],
  "metadata": {
    "accelerator": "GPU",
    "colab": {
      "provenance": []
    },
    "kernelspec": {
      "display_name": "Python 3",
      "name": "python3"
    },
    "language_info": {
      "name": "python"
    }
  },
  "nbformat": 4,
  "nbformat_minor": 0
}